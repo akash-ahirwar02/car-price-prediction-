{
 "cells": [
  {
   "cell_type": "code",
   "execution_count": 1,
   "id": "5945f5e5",
   "metadata": {},
   "outputs": [],
   "source": [
    "## Here we Train a model to predict Used Car price"
   ]
  },
  {
   "cell_type": "code",
   "execution_count": 49,
   "id": "9ab1a614",
   "metadata": {},
   "outputs": [],
   "source": [
    "import pandas as pd\n",
    "import numpy as np "
   ]
  },
  {
   "cell_type": "code",
   "execution_count": 50,
   "id": "f519f1f9",
   "metadata": {},
   "outputs": [],
   "source": [
    "df = pd.read_csv(\"car_data_clean2.csv\")"
   ]
  },
  {
   "cell_type": "code",
   "execution_count": 51,
   "id": "12f240ee",
   "metadata": {},
   "outputs": [],
   "source": [
    "df.reset_index(inplace=True)"
   ]
  },
  {
   "cell_type": "code",
   "execution_count": 52,
   "id": "cc77d687",
   "metadata": {},
   "outputs": [
    {
     "data": {
      "text/plain": [
       "(5932, 7)"
      ]
     },
     "execution_count": 52,
     "metadata": {},
     "output_type": "execute_result"
    }
   ],
   "source": [
    "df.shape"
   ]
  },
  {
   "cell_type": "code",
   "execution_count": 53,
   "id": "c5d0198c",
   "metadata": {},
   "outputs": [
    {
     "data": {
      "text/plain": [
       "(5932, 7)"
      ]
     },
     "execution_count": 53,
     "metadata": {},
     "output_type": "execute_result"
    }
   ],
   "source": [
    "df.shape"
   ]
  },
  {
   "cell_type": "code",
   "execution_count": 54,
   "id": "8bce0085",
   "metadata": {},
   "outputs": [],
   "source": [
    "df.drop(\"index\", axis=1 , inplace=True)"
   ]
  },
  {
   "cell_type": "code",
   "execution_count": 55,
   "id": "ffc37079",
   "metadata": {},
   "outputs": [],
   "source": [
    "X = df.drop(\"selling_price\", axis=1)\n",
    "y = df[\"selling_price\"] "
   ]
  },
  {
   "cell_type": "code",
   "execution_count": 56,
   "id": "84b39c02",
   "metadata": {},
   "outputs": [
    {
     "data": {
      "text/html": [
       "<div>\n",
       "<style scoped>\n",
       "    .dataframe tbody tr th:only-of-type {\n",
       "        vertical-align: middle;\n",
       "    }\n",
       "\n",
       "    .dataframe tbody tr th {\n",
       "        vertical-align: top;\n",
       "    }\n",
       "\n",
       "    .dataframe thead th {\n",
       "        text-align: right;\n",
       "    }\n",
       "</style>\n",
       "<table border=\"1\" class=\"dataframe\">\n",
       "  <thead>\n",
       "    <tr style=\"text-align: right;\">\n",
       "      <th></th>\n",
       "      <th>name</th>\n",
       "      <th>year</th>\n",
       "      <th>selling_price</th>\n",
       "      <th>km_driven</th>\n",
       "      <th>fuel</th>\n",
       "      <th>Company</th>\n",
       "    </tr>\n",
       "  </thead>\n",
       "  <tbody>\n",
       "    <tr>\n",
       "      <th>0</th>\n",
       "      <td>Maruti Swift Dzire</td>\n",
       "      <td>2014</td>\n",
       "      <td>450000</td>\n",
       "      <td>145500</td>\n",
       "      <td>Diesel</td>\n",
       "      <td>Maruti</td>\n",
       "    </tr>\n",
       "    <tr>\n",
       "      <th>1</th>\n",
       "      <td>Honda City 2017-2020</td>\n",
       "      <td>2006</td>\n",
       "      <td>158000</td>\n",
       "      <td>140000</td>\n",
       "      <td>Petrol</td>\n",
       "      <td>Honda</td>\n",
       "    </tr>\n",
       "    <tr>\n",
       "      <th>2</th>\n",
       "      <td>Hyundai i20 Sportz</td>\n",
       "      <td>2010</td>\n",
       "      <td>225000</td>\n",
       "      <td>127000</td>\n",
       "      <td>Diesel</td>\n",
       "      <td>Hyundai</td>\n",
       "    </tr>\n",
       "    <tr>\n",
       "      <th>3</th>\n",
       "      <td>Maruti Swift VXI</td>\n",
       "      <td>2007</td>\n",
       "      <td>130000</td>\n",
       "      <td>120000</td>\n",
       "      <td>Petrol</td>\n",
       "      <td>Maruti</td>\n",
       "    </tr>\n",
       "    <tr>\n",
       "      <th>4</th>\n",
       "      <td>Hyundai Xcent 1.2</td>\n",
       "      <td>2017</td>\n",
       "      <td>440000</td>\n",
       "      <td>45000</td>\n",
       "      <td>Petrol</td>\n",
       "      <td>Hyundai</td>\n",
       "    </tr>\n",
       "    <tr>\n",
       "      <th>...</th>\n",
       "      <td>...</td>\n",
       "      <td>...</td>\n",
       "      <td>...</td>\n",
       "      <td>...</td>\n",
       "      <td>...</td>\n",
       "      <td>...</td>\n",
       "    </tr>\n",
       "    <tr>\n",
       "      <th>5927</th>\n",
       "      <td>Maruti Wagon R</td>\n",
       "      <td>2013</td>\n",
       "      <td>260000</td>\n",
       "      <td>50000</td>\n",
       "      <td>Petrol</td>\n",
       "      <td>Maruti</td>\n",
       "    </tr>\n",
       "    <tr>\n",
       "      <th>5928</th>\n",
       "      <td>Hyundai i20 Magna</td>\n",
       "      <td>2014</td>\n",
       "      <td>475000</td>\n",
       "      <td>80000</td>\n",
       "      <td>Diesel</td>\n",
       "      <td>Hyundai</td>\n",
       "    </tr>\n",
       "    <tr>\n",
       "      <th>5929</th>\n",
       "      <td>Hyundai i20 Magna</td>\n",
       "      <td>2013</td>\n",
       "      <td>320000</td>\n",
       "      <td>110000</td>\n",
       "      <td>Petrol</td>\n",
       "      <td>Hyundai</td>\n",
       "    </tr>\n",
       "    <tr>\n",
       "      <th>5930</th>\n",
       "      <td>Hyundai Verna CRDi</td>\n",
       "      <td>2007</td>\n",
       "      <td>135000</td>\n",
       "      <td>119000</td>\n",
       "      <td>Diesel</td>\n",
       "      <td>Hyundai</td>\n",
       "    </tr>\n",
       "    <tr>\n",
       "      <th>5931</th>\n",
       "      <td>Maruti Swift Dzire</td>\n",
       "      <td>2009</td>\n",
       "      <td>382000</td>\n",
       "      <td>120000</td>\n",
       "      <td>Diesel</td>\n",
       "      <td>Maruti</td>\n",
       "    </tr>\n",
       "  </tbody>\n",
       "</table>\n",
       "<p>5932 rows × 6 columns</p>\n",
       "</div>"
      ],
      "text/plain": [
       "                      name  year  selling_price  km_driven    fuel  Company\n",
       "0       Maruti Swift Dzire  2014         450000     145500  Diesel   Maruti\n",
       "1     Honda City 2017-2020  2006         158000     140000  Petrol    Honda\n",
       "2       Hyundai i20 Sportz  2010         225000     127000  Diesel  Hyundai\n",
       "3         Maruti Swift VXI  2007         130000     120000  Petrol   Maruti\n",
       "4        Hyundai Xcent 1.2  2017         440000      45000  Petrol  Hyundai\n",
       "...                    ...   ...            ...        ...     ...      ...\n",
       "5927        Maruti Wagon R  2013         260000      50000  Petrol   Maruti\n",
       "5928     Hyundai i20 Magna  2014         475000      80000  Diesel  Hyundai\n",
       "5929     Hyundai i20 Magna  2013         320000     110000  Petrol  Hyundai\n",
       "5930    Hyundai Verna CRDi  2007         135000     119000  Diesel  Hyundai\n",
       "5931    Maruti Swift Dzire  2009         382000     120000  Diesel   Maruti\n",
       "\n",
       "[5932 rows x 6 columns]"
      ]
     },
     "execution_count": 56,
     "metadata": {},
     "output_type": "execute_result"
    }
   ],
   "source": [
    "df"
   ]
  },
  {
   "cell_type": "code",
   "execution_count": 57,
   "id": "546615d8",
   "metadata": {},
   "outputs": [],
   "source": [
    "##train test split\n",
    "from sklearn.model_selection import train_test_split\n",
    "X_train, X_test, y_train,y_test = train_test_split(X,y,test_size= 0.2,random_state= 105)"
   ]
  },
  {
   "cell_type": "code",
   "execution_count": 58,
   "id": "ae06c274",
   "metadata": {},
   "outputs": [
    {
     "data": {
      "text/plain": [
       "((4745, 5), (1187, 5), (4745,), (1187,))"
      ]
     },
     "execution_count": 58,
     "metadata": {},
     "output_type": "execute_result"
    }
   ],
   "source": [
    "X_train.shape,X_test.shape,y_train.shape ,y_test.shape"
   ]
  },
  {
   "cell_type": "code",
   "execution_count": 59,
   "id": "f44a932b",
   "metadata": {},
   "outputs": [
    {
     "data": {
      "text/plain": [
       "OneHotEncoder()"
      ]
     },
     "execution_count": 59,
     "metadata": {},
     "output_type": "execute_result"
    }
   ],
   "source": [
    "from sklearn.preprocessing import OneHotEncoder\n",
    "one = OneHotEncoder()\n",
    "one.fit(X[[\"name\",\"fuel\",\"Company\"]])"
   ]
  },
  {
   "cell_type": "code",
   "execution_count": 14,
   "id": "35924f86",
   "metadata": {},
   "outputs": [],
   "source": [
    "from sklearn.compose import make_column_transformer\n",
    "from sklearn.linear_model import LinearRegression\n",
    "from sklearn.pipeline import make_pipeline\n",
    "\n",
    "col_tr = make_column_transformer((OneHotEncoder(categories=one.categories_),[\"name\",\"fuel\",\"Company\"]),remainder=\"passthrough\")"
   ]
  },
  {
   "cell_type": "code",
   "execution_count": 15,
   "id": "2b67780c",
   "metadata": {},
   "outputs": [],
   "source": [
    "## import Linear regression\n",
    "\n",
    "lr = LinearRegression()"
   ]
  },
  {
   "cell_type": "code",
   "execution_count": 17,
   "id": "bdaac606",
   "metadata": {},
   "outputs": [],
   "source": [
    "## creating pipeline\n",
    "pipline = make_pipeline(col_tr,lr)"
   ]
  },
  {
   "cell_type": "code",
   "execution_count": 60,
   "id": "756f8431",
   "metadata": {},
   "outputs": [
    {
     "data": {
      "text/plain": [
       "Pipeline(steps=[('columntransformer',\n",
       "                 ColumnTransformer(remainder='passthrough',\n",
       "                                   transformers=[('onehotencoder',\n",
       "                                                  OneHotEncoder(categories=[array(['Chevrolet Aveo 1.4', 'Chevrolet Aveo U-VA',\n",
       "       'Chevrolet Beat Diesel', 'Chevrolet Beat LS', 'Chevrolet Beat LT',\n",
       "       'Chevrolet Captiva 2.2', 'Chevrolet Captiva LT',\n",
       "       'Chevrolet Cruze LT', 'Chevrolet Cruze LTZ', 'Chevrolet Enjoy 1.3',\n",
       "       'Chevrol...\n",
       "       'Volkswagen Vento 1.6', 'Volkswagen Vento Diesel',\n",
       "       'Volkswagen Vento IPL', 'Volkswagen Vento Konekt',\n",
       "       'Volkswagen Vento Petrol'], dtype=object),\n",
       "                                                                            array(['Diesel', 'Petrol'], dtype=object),\n",
       "                                                                            array(['Chevrolet', 'Ford', 'Honda', 'Hyundai', 'Mahindra', 'Maruti',\n",
       "       'Renault', 'Tata', 'Toyota', 'Volkswagen'], dtype=object)]),\n",
       "                                                  ['name', 'fuel',\n",
       "                                                   'Company'])])),\n",
       "                ('linearregression', LinearRegression())])"
      ]
     },
     "execution_count": 60,
     "metadata": {},
     "output_type": "execute_result"
    }
   ],
   "source": [
    "pipline.fit(X_train,y_train)"
   ]
  },
  {
   "cell_type": "code",
   "execution_count": 61,
   "id": "dc143fb7",
   "metadata": {},
   "outputs": [
    {
     "data": {
      "text/plain": [
       "89.69666966439156"
      ]
     },
     "execution_count": 61,
     "metadata": {},
     "output_type": "execute_result"
    }
   ],
   "source": [
    "pipline.score(X_test,y_test)*100"
   ]
  },
  {
   "cell_type": "code",
   "execution_count": 20,
   "id": "9993a2b5",
   "metadata": {},
   "outputs": [
    {
     "data": {
      "text/plain": [
       "array([287804.86590473])"
      ]
     },
     "execution_count": 20,
     "metadata": {},
     "output_type": "execute_result"
    }
   ],
   "source": [
    "pipline.predict(pd.DataFrame(columns=X_test.columns,data=np.array(['Maruti 800 AC',2013,50000,'Petrol',\"Maruti\"]).reshape(1,5)))"
   ]
  },
  {
   "cell_type": "code",
   "execution_count": 21,
   "id": "5fa4d973",
   "metadata": {},
   "outputs": [],
   "source": [
    "#save the model using pickle\n",
    "import pickle\n",
    "pickle.dump(pipline,open(\"Car_model2000.pkl\", \"wb\"))"
   ]
  },
  {
   "cell_type": "code",
   "execution_count": null,
   "id": "d1e5d2c3",
   "metadata": {},
   "outputs": [],
   "source": []
  }
 ],
 "metadata": {
  "kernelspec": {
   "display_name": "Python 3 (ipykernel)",
   "language": "python",
   "name": "python3"
  },
  "language_info": {
   "codemirror_mode": {
    "name": "ipython",
    "version": 3
   },
   "file_extension": ".py",
   "mimetype": "text/x-python",
   "name": "python",
   "nbconvert_exporter": "python",
   "pygments_lexer": "ipython3",
   "version": "3.9.7"
  }
 },
 "nbformat": 4,
 "nbformat_minor": 5
}
